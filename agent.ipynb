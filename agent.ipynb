{
 "cells": [
  {
   "cell_type": "markdown",
   "id": "1e7ed19c-34d9-411c-9de4-8292971e15b7",
   "metadata": {},
   "source": [
    "# LLM Agent for event listings\n",
    "In this notebook, we set up a simple workflow for an agent to suggest some cool events from the [Boston Calendar](https://www.thebostoncalendar.com/).  This can be run locally or on Colab, but requires you to have access to [OpenAI's API](https://openai.com/blog/openai-api). \n",
    "\n",
    "Note - use of the API is available for free trial, but is paid after that."
   ]
  },
  {
   "cell_type": "code",
   "execution_count": 14,
   "id": "dc4dd1f3-4be3-4b2c-b1ba-fa11553ca172",
   "metadata": {},
   "outputs": [],
   "source": [
    "from langchain_openai import ChatOpenAI\n",
    "from langchain.agents import (\n",
    "    tool, \n",
    "    create_react_agent,\n",
    "    load_tools,\n",
    "    AgentExecutor\n",
    ")\n",
    "from langchain.agents import load_tools\n",
    "from langchain_core.prompts import PromptTemplate\n",
    "from datetime import datetime, timedelta, date\n",
    "from langchain_core.messages.system import SystemMessage\n",
    "from langchain_core.messages.human import HumanMessage\n",
    "\n",
    "# this is for simple scraping tool\n",
    "import requests\n",
    "from random import sample\n",
    "from bs4 import BeautifulSoup"
   ]
  },
  {
   "cell_type": "code",
   "execution_count": 2,
   "id": "223a53b0-fecb-4636-818d-923f51ada613",
   "metadata": {},
   "outputs": [],
   "source": [
    "# using .env file for GPT API key\n",
    "from dotenv import load_dotenv\n",
    "load_dotenv()\n",
    "llm_model = \"gpt-3.5-turbo\"\n",
    "llm = ChatOpenAI(model=llm_model)"
   ]
  },
  {
   "cell_type": "markdown",
   "id": "c9029500-4e41-46ba-a739-41a3f337e33c",
   "metadata": {},
   "source": [
    "### Setting up the Reasoning + Act (ReAct) prompt\n",
    "To make the output of the model follow a particular format, we need to provide it with that format.  This enables us to use a parser to understand what tools and parameters the model would suggest using."
   ]
  },
  {
   "cell_type": "code",
   "execution_count": 3,
   "id": "123638eb-1eac-4ad9-83ea-baa5a9901bce",
   "metadata": {},
   "outputs": [],
   "source": [
    "# prompt is adapted from LangChain's example: https://api.python.langchain.com/en/latest/agents/langchain.agents.react.agent.create_react_agent.html\n",
    "# action input is required to be a string - otherwise I found it would use function calls as inputs\n",
    "template = '''Answer the following questions as best you can. \\\n",
    "You will need to break your response into steps, each which may use a different tool. \\\n",
    "You have access to the following tools:\n",
    "\n",
    "{tools}\n",
    "\n",
    "Use the following format:\n",
    "\n",
    "Question: the input question you must answer\n",
    "Thought: you should always think about what to do\n",
    "Action: the action to take, should be one of [{tool_names}]\n",
    "Action Input: an input to the action, usually an empty string\n",
    "Observation: the result of the action\n",
    "... (this Thought/Action/Action Input/Observation can repeat N times)\n",
    "Thought: I now know the final answer\n",
    "Final Answer: the final answer to the original input question. \n",
    "\n",
    "Think step by step! Begin!\n",
    "\n",
    "Question: {input}\n",
    "Thought:{agent_scratchpad}'''\n",
    "\n",
    "prompt = PromptTemplate.from_template(template)"
   ]
  },
  {
   "cell_type": "markdown",
   "id": "4c28c1bd-19e5-4f7e-86dc-33d777976e73",
   "metadata": {},
   "source": [
    "#### Simple workflow\n",
    "Here we set up an agent that just has access to a function to tell today's date.  We'll be making the workflow \"verbose\" so that we can see each step the process takes.  You'll see in green the text produced by the agent and in blue the output from the function.  The final result is provided as a json with both input and output."
   ]
  },
  {
   "cell_type": "code",
   "execution_count": 5,
   "id": "07fcb284-e542-415a-ab7e-d382b3259b72",
   "metadata": {},
   "outputs": [],
   "source": [
    "# notice the extensive, detailed docstrings - this is for the LLM\n",
    "@tool\n",
    "def today(text: str) -> str:\n",
    "    \"\"\"Returns today's date, use this when you need to get today's date.\n",
    "    The input should always be an empty string.\"\"\"\n",
    "    return str(date.today())"
   ]
  },
  {
   "cell_type": "code",
   "execution_count": 6,
   "id": "2a76416e-2b2b-4dab-a027-465702a14fca",
   "metadata": {},
   "outputs": [
    {
     "name": "stdout",
     "output_type": "stream",
     "text": [
      "\n",
      "\n",
      "\u001b[1m> Entering new AgentExecutor chain...\u001b[0m\n",
      "\u001b[32;1m\u001b[1;3mI need to find out today's date.\n",
      "Action: today\n",
      "Action Input: \u001b[0m\u001b[36;1m\u001b[1;3m2024-02-25\u001b[0m\u001b[32;1m\u001b[1;3mI now know the final answer\n",
      "Final Answer: Today is February 25, 2024.\u001b[0m\n",
      "\n",
      "\u001b[1m> Finished chain.\u001b[0m\n"
     ]
    },
    {
     "data": {
      "text/plain": [
       "{'input': 'What day is it today?', 'output': 'Today is February 25, 2024.'}"
      ]
     },
     "execution_count": 6,
     "metadata": {},
     "output_type": "execute_result"
    }
   ],
   "source": [
    "tools = [today]\n",
    "agent = create_react_agent(llm, tools, prompt)\n",
    "agent_executor = AgentExecutor(agent=agent, tools=tools, \n",
    "                               verbose=True, \n",
    "                               handle_parsing_errors=True,\n",
    "                              max_iterations=5)\n",
    "agent_executor.invoke({\"input\": \"What day is it today?\"})"
   ]
  },
  {
   "cell_type": "markdown",
   "id": "8f9d11ee-d3b7-4c91-91f4-9726639de5fe",
   "metadata": {},
   "source": [
    "#### Local events workflow\n",
    "These next functions provide two new tools for our agent; one that provides the current \"weekend number\" in the month and one that scrapes Boston Calendar for event information.  Most of this is just scraping and formatting Boston Calendar, but the functions with the tool decorators will be provided to the model.\n",
    "\n",
    "Then, we set up our ReAct agent as before."
   ]
  },
  {
   "cell_type": "code",
   "execution_count": 7,
   "id": "4f9c7b09-5451-44b3-9867-f9f6cd6a1bd3",
   "metadata": {},
   "outputs": [],
   "source": [
    "\n",
    "def parse_for_calendar(text: str) -> str:\n",
    "    # utility for converting text input to boston calendar URL\n",
    "    if len(text) == 1:\n",
    "        url = f'https://www.thebostoncalendar.com/events?day=10&month=2&weekend={text}&year=2024'\n",
    "    # this will fail if the string provided is not a date\n",
    "    else:\n",
    "        try:\n",
    "            day_of_month = datetime.strptime(text, '%Y-%M-%d').day    \n",
    "            url = f'https://www.thebostoncalendar.com/events?day={day_of_month}&month=2&year=2024'\n",
    "        except ValueError:\n",
    "            return \n",
    "    return url\n",
    "\n",
    "@tool\n",
    "def weekend(text: str) -> str:\n",
    "    \"\"\"Returns the single-digit weekend number for this weekend, \\\n",
    "    use this for any questions related to the weekend date. \\\n",
    "    The input should always be an empty string, \\\n",
    "    and this function will always return the weekend number.\"\"\"\n",
    "    today = datetime.now()\n",
    "    \n",
    "    # Calculate the weekend number within the month\n",
    "    first_day_of_month = today.replace(day=1)\n",
    "    weekend_number_within_month = (today - first_day_of_month).days // 7 + 1\n",
    "\n",
    "    return weekend_number_within_month\n",
    "\n",
    "@tool\n",
    "def get_events(text: str) -> str:\n",
    "    \"\"\"Returns local events. \\ \n",
    "    The input is either a date string in the format YYYY-MM-DD, \\\n",
    "    or it is a single-digit weekend number.\\\n",
    "    The input cannot be a function call.\\\n",
    "    This function will return a list where \\\n",
    "    each element contains an event name, date and location as a tuple.\\\n",
    "    This function should be used to provide complete information about events.\"\"\"\n",
    "    # use the parsing utility to get a formatted url\n",
    "    url = parse_for_calendar(text)\n",
    "    if url is None:\n",
    "        # give the LLM a useful response\n",
    "        return f'Input \"{text}\" is not in the right format - it needs to be a date string or a weekend number'\n",
    "    response = requests.get(url)     \n",
    "    \n",
    "    # Parse the HTML content\n",
    "    soup = BeautifulSoup(response.content, 'html.parser')\n",
    "    \n",
    "    # Extract data\n",
    "    events = soup.find_all('div', class_='info')\n",
    "\n",
    "    all_events = []\n",
    "    for event in events:\n",
    "        title = event.find('h3').text.strip()\n",
    "        date = event.find('p', class_='time').text.strip()\n",
    "        location = event.find('p', class_='location').text.strip()\n",
    "        all_events.append((title, date, location))\n",
    "\n",
    "    # randomly select a few, provide as list\n",
    "    choices = sample(all_events, 3)\n",
    "    \n",
    "    return choices\n"
   ]
  },
  {
   "cell_type": "code",
   "execution_count": 8,
   "id": "7304f63a-cf03-4207-acac-16182aa984d9",
   "metadata": {},
   "outputs": [
    {
     "name": "stdout",
     "output_type": "stream",
     "text": [
      "\n",
      "\n",
      "\u001b[1m> Entering new AgentExecutor chain...\u001b[0m\n",
      "\u001b[32;1m\u001b[1;3mI need to find out the weekend number first before getting the events happening this weekend.\n",
      "Action: weekend\n",
      "Action Input: \u001b[0m\u001b[33;1m\u001b[1;3m4\u001b[0m\u001b[32;1m\u001b[1;3mNow that I have the weekend number, I can use it to get the events happening this weekend.\n",
      "Action: get_events\n",
      "Action Input: 4\u001b[0m\u001b[38;5;200m\u001b[1;3m[('Boston Public Market Winter Movie Series', 'Sunday, Feb 25, 2024 1:00p', 'Boston Public Market'), ('Winter Wonderbands: Live Music Sundays', 'Sunday, Feb 25, 2024 1:00p', 'Harpoon Brewery'), ('BYO! Underground Comedy', 'Saturday, Feb 24, 2024 7:00p', 'The Secret Loft')]\u001b[0m\u001b[32;1m\u001b[1;3mI now know the events happening this weekend.\n",
      "Final Answer: The events happening this weekend are the Boston Public Market Winter Movie Series, Winter Wonderbands: Live Music Sundays, and BYO! Underground Comedy.\u001b[0m\n",
      "\n",
      "\u001b[1m> Finished chain.\u001b[0m\n"
     ]
    },
    {
     "data": {
      "text/plain": [
       "{'input': 'What is going on this weekend?',\n",
       " 'output': 'The events happening this weekend are the Boston Public Market Winter Movie Series, Winter Wonderbands: Live Music Sundays, and BYO! Underground Comedy.'}"
      ]
     },
     "execution_count": 8,
     "metadata": {},
     "output_type": "execute_result"
    }
   ],
   "source": [
    "tools = [today, weekend, get_events]\n",
    "agent = create_react_agent(llm, tools, prompt)\n",
    "agent_executor = AgentExecutor(agent=agent, tools=tools, \n",
    "                               verbose=True, \n",
    "                               handle_parsing_errors=True,\n",
    "                              max_iterations=5)\n",
    "agent_executor.invoke({\"input\": \"What is going on this weekend?\"})"
   ]
  },
  {
   "cell_type": "markdown",
   "id": "ac3539e9-0b86-4bea-9968-a7951da1263a",
   "metadata": {},
   "source": [
    "We can see here that the output provides three random examples of events coming up this weekend.  One note - if you run this during the weekend, it will return you the current weekend.\n",
    "\n",
    "Our \"today\" tool also enables the agent to get today's events."
   ]
  },
  {
   "cell_type": "code",
   "execution_count": 10,
   "id": "9aba1170-2a80-4b9d-abba-354b99203845",
   "metadata": {},
   "outputs": [
    {
     "name": "stdout",
     "output_type": "stream",
     "text": [
      "\n",
      "\n",
      "\u001b[1m> Entering new AgentExecutor chain...\u001b[0m\n",
      "\u001b[32;1m\u001b[1;3mI need to find out today's date to answer this question.\n",
      "Action: today\n",
      "Action Input: \"\"\u001b[0m\u001b[36;1m\u001b[1;3m2024-02-25\u001b[0m\u001b[32;1m\u001b[1;3mNow that I know today's date, I can proceed to find out what events are happening today.\n",
      "Action: get_events\n",
      "Action Input: 2024-02-25\u001b[0m\u001b[38;5;200m\u001b[1;3m[('Boqueria: Spanish-style tapas & brunch | Seaport', 'Sunday, Feb 25, 2024 goes until 03/31', 'Boqueria'), ('Commonwealth Museum', 'Sunday, Feb 25, 2024 goes until 03/31', 'Commonwealth Museum'), ('Wolf Vostell: Dé-coll/age Is Your Life', 'Sunday, Feb 25, 2024 goes until 05/05', 'Harvard Art Museums')]\u001b[0m\u001b[32;1m\u001b[1;3mI now know the events happening today. \n",
      "Final Answer: The events happening today are Boqueria: Spanish-style tapas & brunch at Seaport, Commonwealth Museum, and Wolf Vostell: Dé-coll/age Is Your Life at Harvard Art Museums.\u001b[0m\n",
      "\n",
      "\u001b[1m> Finished chain.\u001b[0m\n"
     ]
    },
    {
     "data": {
      "text/plain": [
       "{'input': 'What is going on today?',\n",
       " 'output': 'The events happening today are Boqueria: Spanish-style tapas & brunch at Seaport, Commonwealth Museum, and Wolf Vostell: Dé-coll/age Is Your Life at Harvard Art Museums.'}"
      ]
     },
     "execution_count": 10,
     "metadata": {},
     "output_type": "execute_result"
    }
   ],
   "source": [
    "tools = [today, weekend, get_events]\n",
    "agent = create_react_agent(llm, tools, prompt)\n",
    "agent_executor = AgentExecutor(agent=agent, tools=tools, \n",
    "                               verbose=True, \n",
    "                               handle_parsing_errors=True,\n",
    "                              max_iterations=5)\n",
    "agent_executor.invoke({\"input\": \"What is going on today?\"})"
   ]
  },
  {
   "cell_type": "markdown",
   "id": "9b5c8e19-dc14-4dff-9b85-0189aacc2b71",
   "metadata": {},
   "source": [
    "And we can even ask for specific dates!"
   ]
  },
  {
   "cell_type": "code",
   "execution_count": 11,
   "id": "581b9f48-3b4f-4c25-bf76-eb0860f242a1",
   "metadata": {},
   "outputs": [
    {
     "name": "stdout",
     "output_type": "stream",
     "text": [
      "\n",
      "\n",
      "\u001b[1m> Entering new AgentExecutor chain...\u001b[0m\n",
      "\u001b[32;1m\u001b[1;3mI need to find out what events are happening on February 28, 2024.\n",
      "Action: get_events\n",
      "Action Input: 2024-02-28\u001b[0m\u001b[38;5;200m\u001b[1;3m[('The Best Works of Outdoor Public Art to See Around Boston', 'Wednesday, Feb 28, 2024 goes until 12/31', 'Boston'), ('Toro Boston: Dynamic Spanish Tapas | South End', 'Wednesday, Feb 28, 2024 goes until 03/31', 'Toro Boston'), ('Rooftop at Legal Sea Foods', 'Wednesday, Feb 28, 2024 goes until 03/31', 'Legal Sea Foods')]\u001b[0m\u001b[32;1m\u001b[1;3mThere are several events happening on February 28, 2024 in Boston.\n",
      "Final Answer: On February 28, 2024, you can attend \"The Best Works of Outdoor Public Art to See Around Boston\" in Boston, \"Toro Boston: Dynamic Spanish Tapas | South End\" at Toro Boston, and \"Rooftop at Legal Sea Foods\" at Legal Sea Foods.\u001b[0m\n",
      "\n",
      "\u001b[1m> Finished chain.\u001b[0m\n"
     ]
    },
    {
     "data": {
      "text/plain": [
       "{'input': 'What is going on 2/28/24?',\n",
       " 'output': 'On February 28, 2024, you can attend \"The Best Works of Outdoor Public Art to See Around Boston\" in Boston, \"Toro Boston: Dynamic Spanish Tapas | South End\" at Toro Boston, and \"Rooftop at Legal Sea Foods\" at Legal Sea Foods.'}"
      ]
     },
     "execution_count": 11,
     "metadata": {},
     "output_type": "execute_result"
    }
   ],
   "source": [
    "agent_executor.invoke({\"input\": \"What is going on 2/28/24?\"})"
   ]
  },
  {
   "cell_type": "markdown",
   "id": "bf64172a-b2b2-492a-aa2d-d594de1b69c7",
   "metadata": {},
   "source": [
    "#### More fun experiments\n",
    "I wanted to see what happened if I passed something output from the workflow above to our \"friendly\" prompt we experimented with in the post on [fine tuning](https://bpben.github.io/friend_ft_4/).  It actually does pretty well, but it strips away some of the useful information that is provided by the default style."
   ]
  },
  {
   "cell_type": "code",
   "execution_count": 12,
   "id": "01d7a911-a8b3-47f8-85f2-f5ac25b030fa",
   "metadata": {},
   "outputs": [],
   "source": [
    "system_prompt = \"\"\"Your name is Friend.  You are having a conversation with your close friend Ben. \n",
    "You and Ben are sarcastic and poke fun at one another. \n",
    "But you care about each other and support one another.\"\"\"\n",
    "\n",
    "input_prompt = \"\"\"You know the following information:\n",
    "The events happening tomorrow are: \n",
    "1. Pammy’s: Italian Neighborhood Trattoria - Monday, Feb 05, 2024 goes until 12/31 at Pammy's\n",
    "2. Stoneham Town Common Skating Rink - Monday, Feb 05, 2024 goes until 03/24 at Stoneham Town Common Rink\n",
    "3. Park-9 Dog Bar: Indoor Dog Park & Bar | Everett - Monday, Feb 05, 2024 goes until 03/31 at Park-9 Dog Bar\n",
    "\n",
    "Ben: What's going on tomorrow?\"\"\""
   ]
  },
  {
   "cell_type": "code",
   "execution_count": 15,
   "id": "903f98df-fe86-42d6-b1e2-b9f87bacc0f3",
   "metadata": {},
   "outputs": [
    {
     "data": {
      "text/plain": [
       "AIMessage(content=\"Friend: Oh, just the usual, Ben. I'm sure you'll be torn between ice skating with the kids or taking Fido out for a drink at the dog bar. Decisions, decisions!\")"
      ]
     },
     "execution_count": 15,
     "metadata": {},
     "output_type": "execute_result"
    }
   ],
   "source": [
    "messages = [\n",
    "    SystemMessage(content=system_prompt),\n",
    "    HumanMessage(content=input_prompt),\n",
    "]\n",
    "\n",
    "llm.invoke(messages)"
   ]
  }
 ],
 "metadata": {
  "kernelspec": {
   "display_name": "llamabot",
   "language": "python",
   "name": "llamabot"
  },
  "language_info": {
   "codemirror_mode": {
    "name": "ipython",
    "version": 3
   },
   "file_extension": ".py",
   "mimetype": "text/x-python",
   "name": "python",
   "nbconvert_exporter": "python",
   "pygments_lexer": "ipython3",
   "version": "3.11.6"
  }
 },
 "nbformat": 4,
 "nbformat_minor": 5
}
